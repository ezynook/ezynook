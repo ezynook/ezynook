{
 "cells": [
  {
   "cell_type": "markdown",
   "id": "41f2975b-a888-4db1-afcb-227383de38bb",
   "metadata": {},
   "source": [
    "<h1 align=\"center\">การใช้งาน Transaction Trino</h1>\n",
    "\n",
    "<img src=\"https://miro.medium.com/v2/resize:fit:396/1*zeo2xk4tXiLbFRV8dbi3yg.png\" width=\"200\">\n",
    "<h3 style=\"color: blue;\" align=\"right\">Author: Pasit Y.</h3>\n",
    "\n",
    "---\n",
    "> ### Function นี้รองรับเฉพาะ Hive >= 3 เท่านั้น\n",
    "## Step Hive Enable ACID Transactions\n",
    "#### Hive-site.xml Setting (Ambari or Cloudera)\n",
    "```bash\n",
    "Create Tables as ACID Insert Only = False (On Ambari)\n",
    "hive.support.concurrency = true\n",
    "hive.enforce.bucketing = true\n",
    "hive.create.as.external.legacy = true\n",
    "hive.exec.dynamic.partition.mode = nonstrict\n",
    "hive.txn.manager = org.apache.hadoop.hive.ql.lockmgr.DbTxnManager\n",
    "Trino Catalog > /home/trino/etc/catalog/hive.properties\n",
    "Add Below Line `hive.storage-format=ORC`\n",
    "```\n",
    "---\n",
    "## สร้าง Table ที่ Trino\n",
    "---\n",
    "```sh\n",
    "CREATE TABLE hive.transaction.example (\n",
    "    _c0 integer,\n",
    "    vaccine_status varchar,\n",
    "    outcome varchar,\n",
    "    age_group varchar\n",
    ")\n",
    "WITH (\n",
    "  format = 'ORC',\n",
    "  transactional=true,\n",
    "  partitioned_by = ARRAY['age_group'],\n",
    "  bucketed_by = ARRAY['outcome'],\n",
    "  bucket_count = 5\n",
    ");\n",
    "```\n",
    "## ติดตั้ง Library\n",
    "---\n",
    "```py\n",
    "pip install pandas\n",
    "pip install trino\n",
    "pip install trino[sqlalchemy]\n",
    "```"
   ]
  },
  {
   "cell_type": "code",
   "execution_count": null,
   "id": "56ec8720-38c3-4fee-96f1-3c03c0e83415",
   "metadata": {
    "tags": []
   },
   "outputs": [],
   "source": [
    "import pandas as pd\n",
    "from trino.dbapi import connect\n",
    "import os\n",
    "from sqlalchemy import create_engine\n",
    "from sqlalchemy.schema import Table, MetaData\n",
    "from sqlalchemy.sql.expression import select, text\n",
    "import numpy as np"
   ]
  },
  {
   "cell_type": "markdown",
   "id": "22b6c1ca-bc36-4e5e-8d4c-4f1342d72216",
   "metadata": {},
   "source": [
    "## Trino Connect with SQLAlchemy, Trino API"
   ]
  },
  {
   "cell_type": "code",
   "execution_count": null,
   "id": "5d6d1f51-0736-416e-8a06-3ceb6979082e",
   "metadata": {
    "tags": []
   },
   "outputs": [],
   "source": [
    "engine = create_engine('trino://hive:@192.168.10.210:8090/hive/transaction')\n",
    "cur = engine.connect()"
   ]
  },
  {
   "cell_type": "code",
   "execution_count": null,
   "id": "fa92cbbc-4f2a-4206-a287-3571659fa72a",
   "metadata": {
    "tags": []
   },
   "outputs": [],
   "source": [
    "df = pd.read_csv(\"example.csv\")\n",
    "df = df.replace(' ', '_', regex=True)\n",
    "df = df.rename(columns={'Unnamed: 0': 'ids'})"
   ]
  },
  {
   "cell_type": "markdown",
   "id": "3ed44072",
   "metadata": {},
   "source": [
    "## ในกรณีต้องการสร้าง Auto Increment เพื่อ +1 ID ทุกครั้งในการ Loop Insert"
   ]
  },
  {
   "cell_type": "code",
   "execution_count": null,
   "id": "4630f68d",
   "metadata": {},
   "outputs": [],
   "source": [
    "max_id = pd.read_sql(\"SELECT MAX(idx) as max_id FROM hive.transaction.example\", con=engine)\n",
    "\n",
    "id_max = 0\n",
    "\n",
    "if max_id['max_id'][0] is None:\n",
    "    id_max = 0\n",
    "else:\n",
    "    id_max = max_id['max_id'][0]"
   ]
  },
  {
   "cell_type": "markdown",
   "id": "38955f0a",
   "metadata": {},
   "source": [
    "## Loop inserting row-by-row Using Transaction ACID"
   ]
  },
  {
   "cell_type": "code",
   "execution_count": null,
   "id": "d8a490ef-568d-478a-888d-801b4e298c41",
   "metadata": {
    "tags": []
   },
   "outputs": [],
   "source": [
    "df2 = df[20:40]\n",
    "i = id_max\n",
    "for row in df2.itertuples():\n",
    "    i = i + 1\n",
    "    sql = f\"\"\"\n",
    "            INSERT INTO\n",
    "                hive.transaction.example\n",
    "            VALUES (\n",
    "            \t{row.ids},'{row.vaccine_status}','{row.outcome}',{i},'{row.age_group}'\n",
    "            )\n",
    "    \"\"\"\n",
    "    cur.execute(sql)\n",
    "    print('Insert Rows :[', row.age_group,']', 'IDx:[', i,']')"
   ]
  },
  {
   "cell_type": "markdown",
   "id": "8b1a053c",
   "metadata": {},
   "source": [
    "## Select Data"
   ]
  },
  {
   "cell_type": "code",
   "execution_count": null,
   "id": "8922c15a",
   "metadata": {},
   "outputs": [],
   "source": [
    "cur.execute(\"SELECT * FROM transaction.example\").fetchall()"
   ]
  },
  {
   "cell_type": "markdown",
   "id": "fbe7cc4c",
   "metadata": {},
   "source": [
    "## Update Data"
   ]
  },
  {
   "cell_type": "code",
   "execution_count": null,
   "id": "c259d192-fdee-4717-951f-1989668a1db4",
   "metadata": {},
   "outputs": [],
   "source": [
    "cur.execute(\"UPDATE transaction.example SET vaccine_status = 'Test Values' WHERE _c0 = 3\").fetchone()"
   ]
  },
  {
   "cell_type": "markdown",
   "id": "251c85fd",
   "metadata": {},
   "source": [
    "## Delete Data"
   ]
  },
  {
   "cell_type": "code",
   "execution_count": null,
   "id": "ee7a9c46-3276-45c0-9062-7b71592e687e",
   "metadata": {},
   "outputs": [],
   "source": [
    "cur.execute(\"DELETE FROM transaction.example WHERE _c0 = 1\").fetchone()"
   ]
  }
 ],
 "metadata": {
  "kernelspec": {
   "display_name": "Python 3 (ipykernel)",
   "language": "python",
   "name": "python3"
  },
  "language_info": {
   "codemirror_mode": {
    "name": "ipython",
    "version": 3
   },
   "file_extension": ".py",
   "mimetype": "text/x-python",
   "name": "python",
   "nbconvert_exporter": "python",
   "pygments_lexer": "ipython3",
   "version": "3.9.16"
  }
 },
 "nbformat": 4,
 "nbformat_minor": 5
}
