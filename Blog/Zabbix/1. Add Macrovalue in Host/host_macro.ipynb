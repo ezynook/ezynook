{
 "cells": [
  {
   "cell_type": "code",
   "execution_count": null,
   "metadata": {},
   "outputs": [],
   "source": [
    "import pandas as pd\n",
    "from sqlalchemy import create_engine\n",
    "import pymysql as pymysql\n",
    "from urllib.parse import quote\n",
    "import requests\n",
    "import json\n",
    "from urllib3.exceptions import InsecureRequestWarning"
   ]
  },
  {
   "cell_type": "code",
   "execution_count": null,
   "metadata": {},
   "outputs": [],
   "source": [
    "requests.packages.urllib3.disable_warnings(category=InsecureRequestWarning)\n",
    "ZABBIX_API_URL = \"http://192.168.10.109/zabbix/api_jsonrpc.php\"\n",
    "UNAME = \"Admin\"\n",
    "PWORD = \"zabbix\""
   ]
  },
  {
   "cell_type": "code",
   "execution_count": null,
   "metadata": {},
   "outputs": [],
   "source": [
    "readFile = pd.read_csv('./host_macro.csv',sep=\";\")"
   ]
  },
  {
   "cell_type": "code",
   "execution_count": null,
   "metadata": {},
   "outputs": [],
   "source": [
    "def Auth():\n",
    "    r = requests.post(ZABBIX_API_URL,\n",
    "                  json={\n",
    "                      \"jsonrpc\": \"2.0\",\n",
    "                      \"method\": \"user.login\",\n",
    "                      \"params\": {\n",
    "                          \"user\": UNAME,\n",
    "                          \"password\": PWORD},\n",
    "                      \"id\": 1\n",
    "                  }, verify=False)\n",
    "    AUTHTOKEN = r.json()[\"result\"]\n",
    "    return AUTHTOKEN\n"
   ]
  },
  {
   "cell_type": "code",
   "execution_count": null,
   "metadata": {},
   "outputs": [],
   "source": [
    "def host_get(host):\n",
    "    r = requests.post(ZABBIX_API_URL, json={\n",
    "        \"jsonrpc\": \"2.0\",\n",
    "        \"method\": \"host.get\",\n",
    "        \"params\": {\n",
    "            \"filter\": {\n",
    "                \"host\": [\n",
    "                    str(host)\n",
    "                ]\n",
    "            }\n",
    "        },\n",
    "        \"auth\": Auth(),\n",
    "        \"id\": 1\n",
    "    }, verify=False)\n",
    "    host_id = ''\n",
    "    for value in r.json()['result']:\n",
    "        host_id = value['hostid']\n",
    "        \n",
    "    return host_id"
   ]
  },
  {
   "cell_type": "code",
   "execution_count": null,
   "metadata": {},
   "outputs": [],
   "source": [
    "def macro_get(host):\n",
    "    r = requests.post(ZABBIX_API_URL, json={\n",
    "        \"jsonrpc\": \"2.0\",\n",
    "        \"method\": \"host.get\",\n",
    "        \"params\": {\n",
    "            \"filter\": {\n",
    "                \"host\": [\n",
    "                    str(host)\n",
    "                ]\n",
    "            }\n",
    "        },\n",
    "        \"auth\": Auth(),\n",
    "        \"id\": 1\n",
    "    }, verify=False)\n",
    "    print(json.dumps(r.json(), indent=4, sort_keys=True))\n",
    "    host_id = ''\n",
    "    for value in r.json()['result']:\n",
    "        host_id = value['macro']\n",
    "        \n",
    "    return host_id"
   ]
  },
  {
   "cell_type": "code",
   "execution_count": null,
   "metadata": {},
   "outputs": [],
   "source": [
    "def macro_exist(host, macro):\n",
    "    r = requests.post(ZABBIX_API_URL, json={\n",
    "         \"jsonrpc\": \"2.0\",\n",
    "        \"method\": \"usermacro.get\",\n",
    "        \"params\": {\n",
    "            \"output\": \"extend\",\n",
    "            \"hostids\": str(host)\n",
    "        },\n",
    "        \"auth\": Auth(),\n",
    "        \"id\": 1\n",
    "    }, verify=False)\n",
    "    for i in r.json()['result']:\n",
    "        if i['hostid'] == host and i['macro'] == macro:\n",
    "            r = requests.post(ZABBIX_API_URL, json={\n",
    "                \"jsonrpc\": \"2.0\",\n",
    "                \"method\": \"usermacro.delete\",\n",
    "                \"params\": [\n",
    "                    str(i['hostmacroid'])\n",
    "                ],\n",
    "                \"auth\": Auth(),\n",
    "                \"id\": 1\n",
    "            }, verify=False)"
   ]
  },
  {
   "cell_type": "code",
   "execution_count": null,
   "metadata": {},
   "outputs": [],
   "source": [
    "def create_macro(host, macro, value):\n",
    "    r = requests.post(ZABBIX_API_URL,json={\n",
    "        \"jsonrpc\": \"2.0\",\n",
    "        \"method\": \"host.massadd\",\n",
    "        \"params\": {\n",
    "            \"hosts\": [\n",
    "                {\n",
    "                    \"hostid\": str(host),\n",
    "                }\n",
    "            ],\n",
    "            \"macros\": [\n",
    "                {\n",
    "                    \"macro\": str(macro),\n",
    "                    \"value\": str(value)\n",
    "                }\n",
    "            ]\n",
    "        },\n",
    "        \"auth\": Auth(),\n",
    "        \"id\": 1\n",
    "    }, verify=False)\n",
    "    print('Add Macro in HostID [', host,']','Macro/Value [',macro,' <-> ',value,'] Successfully')"
   ]
  },
  {
   "cell_type": "code",
   "execution_count": null,
   "metadata": {},
   "outputs": [],
   "source": [
    "def mass_macro():\n",
    "    group_list = pd.DataFrame()\n",
    "    group_list['hostname'] = readFile['hostname']\n",
    "    group_list['macro'] = readFile['macro'].str.split('|')\n",
    "    group_list['value_macro'] = readFile['value_macro'].str.split('|')\n",
    "    df_result = group_list.set_index(['hostname']).apply(pd.Series.explode).reset_index()\n",
    "    for x,y in df_result.iterrows():\n",
    "        host_id = host_get(y['hostname'])\n",
    "        requests.post(ZABBIX_API_URL,json={\n",
    "            \"jsonrpc\": \"2.0\",\n",
    "            \"method\": \"host.massadd\",\n",
    "            \"params\": {\n",
    "                \"hosts\": [\n",
    "                    {\n",
    "                        \"hostid\": str(host_id),\n",
    "                    }\n",
    "                ],\n",
    "                \"macros\": [\n",
    "                    {\n",
    "                        \"macro\": str(y['macro']),\n",
    "                        \"value\": str(y['value_macro'])\n",
    "                    }\n",
    "                ]\n",
    "            },\n",
    "            \"auth\": Auth(),\n",
    "            \"id\": 1\n",
    "        }, verify=False)\n",
    "        print('Add Mass Macro in Hostname [', y['hostname'],']','Macro/Value [',y['macro'],' <-> ',y['value_macro'],'] Successfully')"
   ]
  },
  {
   "cell_type": "code",
   "execution_count": null,
   "metadata": {},
   "outputs": [],
   "source": [
    "def insert_macro():\n",
    "    for index, row in readFile.iterrows():\n",
    "        try:\n",
    "            host_id = host_get(row['hostname'])\n",
    "            macro = row['macro'].split('|')[0]\n",
    "            value = row['value_macro'].split('|')[0]\n",
    "            macro_exist(host_id, macro)\n",
    "            create_macro(host_id,macro,value)\n",
    "        except:\n",
    "            continue"
   ]
  },
  {
   "cell_type": "code",
   "execution_count": null,
   "metadata": {},
   "outputs": [],
   "source": [
    "if __name__ == '__main__':\n",
    "    # insert_macro()\n",
    "    mass_macro()"
   ]
  }
 ],
 "metadata": {
  "kernelspec": {
   "display_name": "Python 3.9.12 ('base')",
   "language": "python",
   "name": "python3"
  },
  "language_info": {
   "codemirror_mode": {
    "name": "ipython",
    "version": 3
   },
   "file_extension": ".py",
   "mimetype": "text/x-python",
   "name": "python",
   "nbconvert_exporter": "python",
   "pygments_lexer": "ipython3",
   "version": "3.9.12"
  },
  "orig_nbformat": 4,
  "vscode": {
   "interpreter": {
    "hash": "a073d09ee1f0fc65c4fdd44cfa2f842cc367f31b284cfeac679ae38e6da887c4"
   }
  }
 },
 "nbformat": 4,
 "nbformat_minor": 2
}
