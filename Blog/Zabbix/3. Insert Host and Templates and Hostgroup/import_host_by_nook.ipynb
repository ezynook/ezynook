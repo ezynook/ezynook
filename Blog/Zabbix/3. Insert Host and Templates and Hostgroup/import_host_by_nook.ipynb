{
 "cells": [
  {
   "attachments": {},
   "cell_type": "markdown",
   "metadata": {},
   "source": [
    "Install Package\n",
    "<li>pip install <b>requests</b></li>\n",
    "<li>pip install <b>pandas</b></li>\n",
    "<li>pip install <b>sqlalchemy</b></li>\n",
    "<li>pip install <b>pymysql</b></li>"
   ]
  },
  {
   "cell_type": "code",
   "execution_count": 2,
   "metadata": {},
   "outputs": [
    {
     "ename": "IndentationError",
     "evalue": "expected an indented block (connectionpool.py, line 1055)",
     "output_type": "error",
     "traceback": [
      "Traceback \u001b[0;36m(most recent call last)\u001b[0m:\n",
      "  File \u001b[1;32m~/opt/anaconda3/lib/python3.9/site-packages/IPython/core/interactiveshell.py:3369\u001b[0m in \u001b[1;35mrun_code\u001b[0m\n    exec(code_obj, self.user_global_ns, self.user_ns)\n",
      "  Input \u001b[1;32mIn [2]\u001b[0m in \u001b[1;35m<cell line: 1>\u001b[0m\n    import requests\n",
      "  File \u001b[1;32m~/opt/anaconda3/lib/python3.9/site-packages/requests/__init__.py:43\u001b[0m in \u001b[1;35m<module>\u001b[0m\n    import urllib3\n",
      "\u001b[0;36m  File \u001b[0;32m~/opt/anaconda3/lib/python3.9/site-packages/urllib3/__init__.py:13\u001b[0;36m in \u001b[0;35m<module>\u001b[0;36m\u001b[0m\n\u001b[0;31m    from .connectionpool import HTTPConnectionPool, HTTPSConnectionPool, connection_from_url\u001b[0m\n",
      "\u001b[0;36m  File \u001b[0;32m~/opt/anaconda3/lib/python3.9/site-packages/urllib3/connectionpool.py:1055\u001b[0;36m\u001b[0m\n\u001b[0;31m    if getattr(conn, \"proxy_is_verified\", None) is False:\u001b[0m\n\u001b[0m    ^\u001b[0m\n\u001b[0;31mIndentationError\u001b[0m\u001b[0;31m:\u001b[0m expected an indented block\n"
     ]
    }
   ],
   "source": [
    "import requests\n",
    "import json\n",
    "import pandas as pd\n",
    "from sqlalchemy import create_engine\n",
    "import pymysql as pymysql\n",
    "from urllib.parse import quote\n",
    "from pathlib import Path\n",
    "import os"
   ]
  },
  {
   "attachments": {},
   "cell_type": "markdown",
   "metadata": {},
   "source": [
    "Connect ZabbixAPI And Database"
   ]
  },
  {
   "cell_type": "code",
   "execution_count": null,
   "metadata": {},
   "outputs": [],
   "source": [
    "ZABBIX_API_URL = \"http://192.168.10.121/zabbix/api_jsonrpc.php\"\n",
    "UNAME = \"Admin\"\n",
    "PWORD = \"zabbix\"\n",
    "engine = create_engine('mysql+pymysql://softnix:%s@192.168.10.109/zabbix' % quote('softnix'))"
   ]
  },
  {
   "attachments": {},
   "cell_type": "markdown",
   "metadata": {},
   "source": [
    "เช็คไฟล์ CSV ดูว่ามีอยู่หรือเปล่า ถ้าไม่มีให้สร้าง Column มาให้"
   ]
  },
  {
   "cell_type": "code",
   "execution_count": null,
   "metadata": {},
   "outputs": [],
   "source": [
    "pathFile = os.getcwd()+'/hosts.csv'\n",
    "path_to_file = pathFile\n",
    "path = Path(path_to_file)\n",
    "if not path.is_file():\n",
    "    with open('hosts.csv', 'w') as f:\n",
    "        f.write('''hostname;visible;ip;type;port;hostgroup;template;community\n",
    "Zabbix.Test1;behind1;172.19.23.101;Agent;10050;Hypervisors,Templates,xxx;Linux by Zabbix agent;''')"
   ]
  },
  {
   "attachments": {},
   "cell_type": "markdown",
   "metadata": {},
   "source": [
    "อ่านไฟล์ CSV"
   ]
  },
  {
   "cell_type": "code",
   "execution_count": null,
   "metadata": {},
   "outputs": [],
   "source": [
    "readFile = pd.read_csv('./hosts.csv', sep=';')"
   ]
  },
  {
   "cell_type": "markdown",
   "metadata": {},
   "source": [
    "ขอ Authen Key จาก Zabbix"
   ]
  },
  {
   "cell_type": "code",
   "execution_count": null,
   "metadata": {},
   "outputs": [],
   "source": [
    "def Authen():\n",
    "    r = requests.post(ZABBIX_API_URL,\n",
    "                  json={\n",
    "                      \"jsonrpc\": \"2.0\",\n",
    "                      \"method\": \"user.login\",\n",
    "                      \"params\": {\n",
    "                          \"username\": UNAME,\n",
    "                          \"password\": PWORD},\n",
    "                      \"id\": 1\n",
    "                  })\n",
    "    AUTHTOKEN = r.json()[\"result\"]\n",
    "    return AUTHTOKEN"
   ]
  },
  {
   "attachments": {},
   "cell_type": "markdown",
   "metadata": {},
   "source": [
    "HostGroup -> HostID"
   ]
  },
  {
   "cell_type": "code",
   "execution_count": null,
   "metadata": {},
   "outputs": [],
   "source": [
    "def hostgroup(host):\n",
    "    strID = requests.post(ZABBIX_API_URL, json={\n",
    "        \"jsonrpc\": \"2.0\",\n",
    "        \"method\": \"hostgroup.get\",\n",
    "        \"params\": {\n",
    "            \"output\": \"extend\",\n",
    "            \"filter\": {\"name\": [str(host)]}\n",
    "        },\n",
    "        \"auth\": Authen(),\n",
    "        \"id\": 1\n",
    "    })\n",
    "    res = ''\n",
    "    for i in strID.json()['result']:\n",
    "        res = i['groupid']\n",
    "    return res"
   ]
  },
  {
   "attachments": {},
   "cell_type": "markdown",
   "metadata": {},
   "source": [
    "Template Name -> Template ID"
   ]
  },
  {
   "cell_type": "code",
   "execution_count": null,
   "metadata": {},
   "outputs": [],
   "source": [
    "def template(template):\n",
    "    strID = requests.post(ZABBIX_API_URL, json={\n",
    "        \"jsonrpc\": \"2.0\",\n",
    "        \"method\": \"template.get\",\n",
    "        \"params\": {\n",
    "            \"output\": \"extend\",\n",
    "            \"filter\": {\"host\": [str(template)]}\n",
    "        },\n",
    "        \"auth\": Authen(),\n",
    "        \"id\": 1\n",
    "    })\n",
    "    res = ''\n",
    "    for i in strID.json()['result']:\n",
    "        res = i['templateid']\n",
    "    return res"
   ]
  },
  {
   "attachments": {},
   "cell_type": "markdown",
   "metadata": {},
   "source": [
    "Hostname -> HostID"
   ]
  },
  {
   "cell_type": "code",
   "execution_count": null,
   "metadata": {},
   "outputs": [],
   "source": [
    "def host(host):\n",
    "    strID = requests.post(ZABBIX_API_URL, json={\n",
    "        \"jsonrpc\": \"2.0\",\n",
    "            \"method\": \"host.get\",\n",
    "            \"params\": {\n",
    "                \"filter\": {\"host\": [str(host)]}\n",
    "            },\n",
    "            \"auth\": Authen(),\n",
    "            \"id\": 1\n",
    "    })\n",
    "    res = ''\n",
    "    for i in strID.json()['result']:\n",
    "        res = i['hostid']\n",
    "    return res"
   ]
  },
  {
   "cell_type": "markdown",
   "metadata": {},
   "source": [
    "โดย Default ของ API จะให้เพิ่มไปเป็น SNMP Version 3 เท่านั้น เลยต้องมี Function มาเพิ่แปลงเป็น Version 2 <br>\n",
    "<u><b style='color:red;'>** หากต้องการใช้ Version 3 สามารถข้ามส่วนนี้ไปได้</b></u>"
   ]
  },
  {
   "cell_type": "code",
   "execution_count": null,
   "metadata": {},
   "outputs": [],
   "source": [
    "def edit_interface(hostid, community):\n",
    "    try:\n",
    "        sql = f\"\"\"\n",
    "            UPDATE\n",
    "                interface_snmp \n",
    "            SET\n",
    "                version = '2',\n",
    "                community = '{community}',\n",
    "                securityname = '',\n",
    "                contextname = ''\n",
    "            WHERE\n",
    "                interfaceid IN (\n",
    "                SELECT\n",
    "                    interfaceid \n",
    "                FROM\n",
    "                    interface \n",
    "            WHERE\n",
    "                hostid = '{hostid}')\n",
    "        \"\"\"\n",
    "        engine.execute(sql)\n",
    "        query = engine.execute(f\"select host from hosts where hostid = {hostid}\")\n",
    "        print('Change Version SNMP to V2 Hostname = ', query.fetchone()[0])\n",
    "    except Exception as e:\n",
    "        print('Error to Change SNMP: ', e)"
   ]
  },
  {
   "cell_type": "code",
   "execution_count": null,
   "metadata": {},
   "outputs": [],
   "source": [
    "def assign_group():\n",
    "    group_list = pd.DataFrame()\n",
    "    group_list['hostname'] = readFile['hostname']\n",
    "    group_list['hostgroup'] = readFile['hostgroup'].str.split(',')\n",
    "    group_explode = group_list.set_index(['hostname']).apply(pd.Series.explode).reset_index()\n",
    "    return group_explode"
   ]
  },
  {
   "cell_type": "code",
   "execution_count": null,
   "metadata": {},
   "outputs": [],
   "source": [
    "def mass_group():\n",
    "    number = 0\n",
    "    for index, row in assign_group().iterrows():\n",
    "        number = number + 1\n",
    "        group_id = hostgroup(row['hostgroup'])\n",
    "        host_id = host(row['hostname'])\n",
    "        r = requests.post(ZABBIX_API_URL, json={\n",
    "            \"jsonrpc\": \"2.0\",\n",
    "            \"method\": \"hostgroup.massadd\",\n",
    "            \"params\": {\n",
    "                \"groups\": [\n",
    "                    {\n",
    "                        \"groupid\": str(group_id)\n",
    "                    }\n",
    "                ],\n",
    "                \"hosts\": [\n",
    "                    {\n",
    "                        \"hostid\": str(host_id)\n",
    "                    }\n",
    "                ]\n",
    "            },\n",
    "            \"auth\": Authen(),\n",
    "            \"id\": 1\n",
    "        })\n",
    "        print(number, ': Add Hostgroup: [', row['hostname'],'] HostGroup [', row['hostgroup'],'] Successfully')\n",
    "        "
   ]
  },
  {
   "cell_type": "markdown",
   "metadata": {},
   "source": [
    "<b style='color: green;'>Loop File CSV เพิ่มบันทึกให้ครบทั้งหมดในไฟล์</b>"
   ]
  },
  {
   "cell_type": "code",
   "execution_count": null,
   "metadata": {},
   "outputs": [],
   "source": [
    "def insert_host():\n",
    "    for index, row in readFile.iterrows():\n",
    "        index = index + 1\n",
    "        group_id = hostgroup(row['hostgroup'].split(',')[0])\n",
    "        templates_id = template(row['template'])\n",
    "        try:\n",
    "            if row['type'] == 'Agent':\n",
    "                r = requests.post(\n",
    "                        ZABBIX_API_URL,\n",
    "                        json={\n",
    "                            \"jsonrpc\": \"2.0\",\n",
    "                            \"method\": \"host.create\",\n",
    "                            \"params\": {\n",
    "                                \"host\": str(row['hostname']),\n",
    "                                \"interfaces\": [\n",
    "                                    {\n",
    "                                        \"type\": 1,\n",
    "                                        \"main\": 1,\n",
    "                                        \"useip\": 1,\n",
    "                                        \"ip\": str(row['ip']),\n",
    "                                        \"dns\": \"\",\n",
    "                                        \"port\": str(row['port'])\n",
    "                                    }\n",
    "                                ],\n",
    "                                \"groups\": [\n",
    "                                    {\n",
    "                                        \"groupid\": str(group_id)\n",
    "                                    }\n",
    "                                ],\n",
    "                                \"templates\": [\n",
    "                                    {\n",
    "                                        \"templateid\": str(templates_id)\n",
    "                                    }\n",
    "                                ]\n",
    "                            },\n",
    "                            \"auth\": Authen(),\n",
    "                            \"id\": 1\n",
    "                        }\n",
    "                )\n",
    "                print(index,' Type: Agent ', ': Add Host: [', row['hostname'],'] Successfully')\n",
    "            else:\n",
    "                r = requests.post(\n",
    "                        ZABBIX_API_URL,\n",
    "                        json={\n",
    "                            \"jsonrpc\": \"2.0\",\n",
    "                            \"method\": \"host.create\",\n",
    "                            \"params\": {\n",
    "                                \"host\": str(row['hostname']),\n",
    "                                \"interfaces\": [\n",
    "                                    {\n",
    "                                        \"type\": 2,\n",
    "                                        \"main\": 1,\n",
    "                                        \"useip\": 1,\n",
    "                                        \"ip\": str(row['ip']),\n",
    "                                        \"dns\": \"\",\n",
    "                                        \"port\": str(row['port']),\n",
    "                                        \"details\": {\n",
    "                                            \"version\": 3,\n",
    "                                            \"bulk\": 0,\n",
    "                                            \"securityname\": \"\",\n",
    "                                            \"contextname\": \"\",\n",
    "                                            \"securitylevel\": 1\n",
    "                                        }\n",
    "                                    }\n",
    "                                ],\n",
    "                                \"groups\": [\n",
    "                                    {\n",
    "                                        \"groupid\": str(group_id)\n",
    "                                    }\n",
    "                                ],\n",
    "                                \"templates\": [\n",
    "                                    {\n",
    "                                        \"templateid\": str(templates_id)\n",
    "                                    }\n",
    "                                ]\n",
    "                            },\n",
    "                            \"auth\": Authen(),\n",
    "                            \"id\": 1\n",
    "                        }\n",
    "                )\n",
    "                print(index,' Type: SNMP ', ': Add Host: [', row['hostname'],'] Successfully')\n",
    "        except:\n",
    "                print(index, ': Add Host: [', row['hostname'],'] Error!')\n",
    "                continue"
   ]
  },
  {
   "cell_type": "markdown",
   "metadata": {},
   "source": [
    "แก้ไข Interface เป็น SNMP V2 และเพิ่ม Community"
   ]
  },
  {
   "cell_type": "code",
   "execution_count": null,
   "metadata": {},
   "outputs": [],
   "source": [
    "def interface_snmp():\n",
    "    for index, row in readFile.iterrows():\n",
    "        host_id = host(row['hostname'])\n",
    "        if row['type'] == \"SNMP\":\n",
    "            edit_interface(host_id, row['community'])"
   ]
  },
  {
   "cell_type": "markdown",
   "metadata": {},
   "source": [
    "เพิ่ม Host Group หากมี Host Group มากกว่า 1"
   ]
  },
  {
   "cell_type": "code",
   "execution_count": null,
   "metadata": {},
   "outputs": [],
   "source": [
    "if __name__ == '__main__':\n",
    "    print('######### Insert Hostname and Interface #########')\n",
    "    insert_host()\n",
    "    print('######### Insert Multiple Host Group #########')\n",
    "    mass_group()\n",
    "    print('######### Change Interface SNMP to V2 #########')\n",
    "    interface_snmp()\n",
    "    print('######### ๐Task Running Completely๐ #########')\n"
   ]
  }
 ],
 "metadata": {
  "kernelspec": {
   "display_name": "Python 3.9.12 ('base')",
   "language": "python",
   "name": "python3"
  },
  "language_info": {
   "codemirror_mode": {
    "name": "ipython",
    "version": 3
   },
   "file_extension": ".py",
   "mimetype": "text/x-python",
   "name": "python",
   "nbconvert_exporter": "python",
   "pygments_lexer": "ipython3",
   "version": "3.9.12"
  },
  "orig_nbformat": 4,
  "vscode": {
   "interpreter": {
    "hash": "a073d09ee1f0fc65c4fdd44cfa2f842cc367f31b284cfeac679ae38e6da887c4"
   }
  }
 },
 "nbformat": 4,
 "nbformat_minor": 2
}
