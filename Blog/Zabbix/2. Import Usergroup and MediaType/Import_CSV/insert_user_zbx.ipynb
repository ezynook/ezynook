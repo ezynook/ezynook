{
 "cells": [
  {
   "cell_type": "code",
   "execution_count": 1,
   "metadata": {},
   "outputs": [],
   "source": [
    "import pandas as pd\n",
    "from sqlalchemy import create_engine\n",
    "import pymysql as pymysql\n",
    "from urllib.parse import quote\n",
    "import requests\n",
    "import json"
   ]
  },
  {
   "cell_type": "code",
   "execution_count": 2,
   "metadata": {},
   "outputs": [],
   "source": [
    "ZABBIX_API_URL = \"http://192.168.10.109/zabbix/api_jsonrpc.php\"\n",
    "UNAME = \"Admin\"\n",
    "PWORD = \"zabbix\""
   ]
  },
  {
   "cell_type": "code",
   "execution_count": null,
   "metadata": {},
   "outputs": [],
   "source": [
    "try:\n",
    "    engine = create_engine('mysql+pymysql://softnix:%s@192.168.10.121/zabbix' % quote('softnix'))\n",
    "except:\n",
    "    print('Database Username or Password went wrong')"
   ]
  },
  {
   "cell_type": "code",
   "execution_count": null,
   "metadata": {},
   "outputs": [],
   "source": [
    "readFile = pd.read_csv('./users.csv',sep=\";\")"
   ]
  },
  {
   "cell_type": "code",
   "execution_count": 3,
   "metadata": {},
   "outputs": [],
   "source": [
    "def Auth():\n",
    "    r = requests.post(ZABBIX_API_URL,\n",
    "                  json={\n",
    "                      \"jsonrpc\": \"2.0\",\n",
    "                      \"method\": \"user.login\",\n",
    "                      \"params\": {\n",
    "                          \"user\": UNAME,\n",
    "                          \"password\": PWORD},\n",
    "                      \"id\": 1\n",
    "                  })\n",
    "    AUTHTOKEN = r.json()[\"result\"]\n",
    "    return AUTHTOKEN"
   ]
  },
  {
   "cell_type": "code",
   "execution_count": null,
   "metadata": {},
   "outputs": [],
   "source": [
    "def group_id(group):\n",
    "    r = requests.post(ZABBIX_API_URL, json={\n",
    "        \"jsonrpc\": \"2.0\",\n",
    "            \"method\": \"usergroup.get\",\n",
    "            \"params\": {\n",
    "                \"filter\": {\n",
    "                    \"name\": [\n",
    "                        str(group)\n",
    "                    ]\n",
    "                },\n",
    "                \"output\": \"extend\"\n",
    "            },\n",
    "            \"auth\": Auth(),\n",
    "            \"id\": 1\n",
    "    })\n",
    "    strID = ''\n",
    "    for i in r.json()['result']:\n",
    "        strID = i['usrgrpid']\n",
    "    return strID"
   ]
  },
  {
   "cell_type": "code",
   "execution_count": null,
   "metadata": {},
   "outputs": [],
   "source": [
    "def role_id(role):\n",
    "    r = requests.post(ZABBIX_API_URL, json={\n",
    "        \"jsonrpc\": \"2.0\",\n",
    "        \"method\": \"role.get\",\n",
    "        \"params\": {\n",
    "            \"filter\": {\n",
    "                \"name\": [\n",
    "                    str(role)\n",
    "                ]\n",
    "            },\n",
    "            \"output\": \"extend\"\n",
    "        },\n",
    "        \"auth\": Auth(),\n",
    "        \"id\": 1\n",
    "    })\n",
    "    strID = ''\n",
    "    for i in r.json()['result']:\n",
    "        strID = i['roleid']\n",
    "    return strID"
   ]
  },
  {
   "cell_type": "code",
   "execution_count": 26,
   "metadata": {},
   "outputs": [],
   "source": [
    "def user_get(user):\n",
    "    r = requests.post(ZABBIX_API_URL, json={\n",
    "        \"jsonrpc\": \"2.0\",\n",
    "        \"method\": \"user.get\",\n",
    "        \"params\": {\n",
    "            \"filter\": {\n",
    "                \"username\": [\n",
    "                    str(user)\n",
    "                ]\n",
    "            },\n",
    "            \"output\": \"extends\"\n",
    "        },\n",
    "        \"auth\": Auth(),\n",
    "        \"id\": 1\n",
    "    })\n",
    "    strID = ''\n",
    "    for i in r.json()['result']:\n",
    "        strID = i['userid']\n",
    "    return strID"
   ]
  },
  {
   "cell_type": "code",
   "execution_count": 6,
   "metadata": {},
   "outputs": [
    {
     "ename": "SyntaxError",
     "evalue": "invalid syntax (4291406408.py, line 14)",
     "output_type": "error",
     "traceback": [
      "\u001b[0;36m  Input \u001b[0;32mIn [6]\u001b[0;36m\u001b[0m\n\u001b[0;31m    \"selectMessageTemplates\": \"extend\"\u001b[0m\n\u001b[0m    ^\u001b[0m\n\u001b[0;31mSyntaxError\u001b[0m\u001b[0;31m:\u001b[0m invalid syntax\n"
     ]
    }
   ],
   "source": [
    "def media_get(media):\n",
    "    r = requests.post(ZABBIX_API_URL, json={\n",
    "    \"jsonrpc\": \"2.0\",\n",
    "    \"method\": \"mediatype.get\",\n",
    "    \"params\": {\n",
    "        \"filter\": {\n",
    "            \"name\": [\n",
    "                str(media)\n",
    "            ]\n",
    "        },\n",
    "        \"output\": \"extend\",\n",
    "        \"selectMessageTemplates\": \"extend\"\n",
    "    },\n",
    "    \"auth\": Auth(),\n",
    "    \"id\": 1\n",
    "    })\n",
    "    strID = ''\n",
    "    for i in r.json()['result']:\n",
    "        strID = i['mediatypeid']\n",
    "    return strID"
   ]
  },
  {
   "cell_type": "code",
   "execution_count": null,
   "metadata": {},
   "outputs": [],
   "source": [
    "def create_user(login,name,surname,groupid,password,roleid, media, email):\n",
    "    r = requests.post(ZABBIX_API_URL, json={\n",
    "        \"jsonrpc\": \"2.0\",\n",
    "        \"method\": \"user.create\",\n",
    "        \"params\": {\n",
    "            \"username\": str(login),\n",
    "            \"passwd\": str(password),\n",
    "            \"roleid\": str(roleid),\n",
    "            \"usrgrps\": [\n",
    "                {\n",
    "                    \"usrgrpid\": str(groupid)\n",
    "                }\n",
    "            ],\n",
    "            \"medias\": [\n",
    "                {\n",
    "                    \"mediatypeid\": str(media),\n",
    "                    \"sendto\": [\n",
    "                        str(email)\n",
    "                    ],\n",
    "                    \"active\": 0,\n",
    "                    \"severity\": 63,\n",
    "                    \"period\": \"1-7,00:00-24:00\"\n",
    "                }\n",
    "            ]\n",
    "        },\n",
    "        \"auth\": Auth(),\n",
    "        \"id\": 1\n",
    "    })\n",
    "    for i in r.json():\n",
    "        if 'result' in i:\n",
    "            return i['result']\n",
    "        elif 'error' in i:\n",
    "            return i['error']['data']"
   ]
  },
  {
   "cell_type": "code",
   "execution_count": null,
   "metadata": {},
   "outputs": [],
   "source": [
    "def last_mediaid():\n",
    "    query = engine.execute(\"SELECT MAX(mediaid)+1 as maxis FROM media LIMIT 1\")\n",
    "    myresult = query.fetchone()[0]\n",
    "    if myresult > 0:\n",
    "        return myresult\n",
    "    else:\n",
    "        myresult+1"
   ]
  },
  {
   "cell_type": "code",
   "execution_count": null,
   "metadata": {},
   "outputs": [],
   "source": [
    "def last_groupid():\n",
    "    query = engine.execute(\"SELECT MAX(id)+1 as maxid FROM users_groups LIMIT 1\")\n",
    "    myresult = query.fetchone()[0]\n",
    "    if myresult > 0:\n",
    "        return myresult\n",
    "    else:\n",
    "        return myresult+1"
   ]
  },
  {
   "cell_type": "code",
   "execution_count": null,
   "metadata": {},
   "outputs": [],
   "source": [
    "def insert_user():\n",
    "    for index, i in readFile.iterrows():\n",
    "        index = index +1\n",
    "        groupid = group_id(i['group'].split(\",\")[0])\n",
    "        roleid = role_id(i['role'])\n",
    "        media_id = media_get(i['mediatype'])\n",
    "        if len(i['group']) > 0:\n",
    "            try:\n",
    "                create_user(i['login'], i['name'], i['surname'], groupid, i['pass'], roleid, media_id, i['email'])\n",
    "            except Exception as e:\n",
    "                print('Error: [',i['login'],'] Ready Existes')\n",
    "                continue\n",
    "        else:\n",
    "            print('Group is empty in file CSV')\n",
    "        print(index, 'Add Users: -> [',i['login'],'] Successfully')"
   ]
  },
  {
   "cell_type": "code",
   "execution_count": null,
   "metadata": {},
   "outputs": [],
   "source": [
    "def assign_group():\n",
    "    group_list = pd.DataFrame()\n",
    "    group_list['login'] = readFile['login']\n",
    "    group_list['group'] = readFile['group'].str.split(',')\n",
    "    df_result = group_list.set_index(['login']).apply(pd.Series.explode).reset_index()\n",
    "    return df_result"
   ]
  },
  {
   "cell_type": "code",
   "execution_count": null,
   "metadata": {},
   "outputs": [],
   "source": [
    "def insert_usrgrp():\n",
    "    for i,x in assign_group().iterrows():\n",
    "        try:\n",
    "            max_id = last_groupid()\n",
    "            groupid = group_id(x['group'])\n",
    "            userid = user_get(x['login'])\n",
    "            if len(x['group']) > 0:\n",
    "                sql = f'''\n",
    "                        INSERT IGNORE INTO\n",
    "                            users_groups\n",
    "                        SET\n",
    "                            id = {max_id},\n",
    "                            usrgrpid = {groupid},\n",
    "                            userid = {userid}\n",
    "                    '''\n",
    "                engine.execute(sql)\n",
    "            else:\n",
    "                print('Group is empty in file CSV.')\n",
    "        except IndexError:\n",
    "                 print('--User Group not match in Database Please Insert Usergroup in Zabbix Web Before Running Script !.--')\n",
    "                 continue\n",
    "        print(f'Add More Group ->[',x['group'],']','->[', x['login'], '] Successfully')"
   ]
  },
  {
   "cell_type": "code",
   "execution_count": null,
   "metadata": {},
   "outputs": [],
   "source": [
    "#เรียกใช้ Function\n",
    "if __name__ == '__main__':\n",
    "    print('----------INSERT USERS-----------')\n",
    "    insert_user()\n",
    "    print('----------INSERT USER GROUP-----------')\n",
    "    insert_usrgrp()\n",
    "    print('----------SUCCESSFULLY-----------')"
   ]
  },
  {
   "cell_type": "code",
   "execution_count": null,
   "metadata": {},
   "outputs": [],
   "source": []
  }
 ],
 "metadata": {
  "kernelspec": {
   "display_name": "Python 3.9.12 ('base')",
   "language": "python",
   "name": "python3"
  },
  "language_info": {
   "codemirror_mode": {
    "name": "ipython",
    "version": 3
   },
   "file_extension": ".py",
   "mimetype": "text/x-python",
   "name": "python",
   "nbconvert_exporter": "python",
   "pygments_lexer": "ipython3",
   "version": "3.9.12"
  },
  "orig_nbformat": 4,
  "vscode": {
   "interpreter": {
    "hash": "a073d09ee1f0fc65c4fdd44cfa2f842cc367f31b284cfeac679ae38e6da887c4"
   }
  }
 },
 "nbformat": 4,
 "nbformat_minor": 2
}
