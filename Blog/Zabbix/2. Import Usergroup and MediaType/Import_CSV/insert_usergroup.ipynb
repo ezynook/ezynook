{
 "cells": [
  {
   "cell_type": "code",
   "execution_count": 1,
   "metadata": {},
   "outputs": [],
   "source": [
    "import requests\n",
    "import json\n",
    "import pandas as pd"
   ]
  },
  {
   "cell_type": "code",
   "execution_count": null,
   "metadata": {},
   "outputs": [],
   "source": [
    "ZABBIX_API_URL = \"http://192.168.10.121/zabbix/api_jsonrpc.php\"\n",
    "UNAME = \"Admin\"\n",
    "PWORD = \"zabbix\""
   ]
  },
  {
   "cell_type": "code",
   "execution_count": null,
   "metadata": {},
   "outputs": [],
   "source": [
    "readFile = pd.read_csv('./group.csv', sep=\";\")"
   ]
  },
  {
   "cell_type": "code",
   "execution_count": null,
   "metadata": {},
   "outputs": [],
   "source": [
    "def Auth():\n",
    "    r = requests.post(ZABBIX_API_URL,\n",
    "                  json={\n",
    "                      \"jsonrpc\": \"2.0\",\n",
    "                      \"method\": \"user.login\",\n",
    "                      \"params\": {\n",
    "                          \"user\": UNAME,\n",
    "                          \"password\": PWORD},\n",
    "                      \"id\": 1\n",
    "                  })\n",
    "    AUTHTOKEN = r.json()[\"result\"]\n",
    "    return AUTHTOKEN"
   ]
  },
  {
   "cell_type": "code",
   "execution_count": null,
   "metadata": {},
   "outputs": [],
   "source": [
    "def insert_usergroup(usergroup):\n",
    "    r = requests.post(ZABBIX_API_URL, json={\n",
    "            \"jsonrpc\": \"2.0\",\n",
    "            \"method\": \"usergroup.create\",\n",
    "            \"params\": {\n",
    "                \"name\": str(usergroup),\n",
    "            },\n",
    "            \"auth\": Auth(),\n",
    "            \"id\": 1\n",
    "    })\n",
    "    if not 'error' in r.json():\n",
    "        print('Add User Group [',usergroup,'] Successfully')\n",
    "    else:\n",
    "        print(r.json()['error']['data'])"
   ]
  },
  {
   "cell_type": "code",
   "execution_count": null,
   "metadata": {},
   "outputs": [],
   "source": [
    "def _main():\n",
    "    for i, row in readFile.iterrows():\n",
    "        insert_usergroup(row['groupname'])"
   ]
  },
  {
   "cell_type": "code",
   "execution_count": null,
   "metadata": {},
   "outputs": [],
   "source": [
    "if __name__ == '__main__':\n",
    "    _main()"
   ]
  }
 ],
 "metadata": {
  "kernelspec": {
   "display_name": "base",
   "language": "python",
   "name": "python3"
  },
  "language_info": {
   "codemirror_mode": {
    "name": "ipython",
    "version": 3
   },
   "file_extension": ".py",
   "mimetype": "text/x-python",
   "name": "python",
   "nbconvert_exporter": "python",
   "pygments_lexer": "ipython3",
   "version": "3.9.12"
  },
  "orig_nbformat": 4,
  "vscode": {
   "interpreter": {
    "hash": "a073d09ee1f0fc65c4fdd44cfa2f842cc367f31b284cfeac679ae38e6da887c4"
   }
  }
 },
 "nbformat": 4,
 "nbformat_minor": 2
}
