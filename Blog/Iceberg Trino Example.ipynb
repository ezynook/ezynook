{
 "cells": [
  {
   "cell_type": "markdown",
   "id": "16e2b0ab",
   "metadata": {},
   "source": [
    "<h1 align=\"center\">\n",
    "    <b style=\"color: green;\">Trino </b><b style=\"color: red;\">Iceberg </b><b style=\"color: black;\">Example</b>\n",
    "</h1>\n",
    "\n",
    "---"
   ]
  },
  {
   "cell_type": "code",
   "execution_count": 1,
   "id": "b206091d",
   "metadata": {},
   "outputs": [],
   "source": [
    "from sqlalchemy import create_engine\n",
    "from sqlalchemy.schema import Table, MetaData\n",
    "from sqlalchemy.sql.expression import select, text\n",
    "import pandas as pd"
   ]
  },
  {
   "cell_type": "code",
   "execution_count": 2,
   "id": "e7a595f7",
   "metadata": {},
   "outputs": [],
   "source": [
    "engine = create_engine('trino://root:@192.168.10.210:8090/iceberg/iceberg')\n",
    "connection = engine.connect()"
   ]
  },
  {
   "cell_type": "markdown",
   "id": "b555b4ac",
   "metadata": {},
   "source": [
    "## Re-Snapshot"
   ]
  },
  {
   "cell_type": "code",
   "execution_count": 4,
   "id": "efb7e627",
   "metadata": {},
   "outputs": [
    {
     "data": {
      "text/plain": [
       "<sqlalchemy.engine.cursor.LegacyCursorResult at 0x7eff78080850>"
      ]
     },
     "execution_count": 4,
     "metadata": {},
     "output_type": "execute_result"
    }
   ],
   "source": [
    "connection.execute(\"CALL iceberg.system.rollback_to_snapshot('iceberg_test', 'tbl_example', 822704853044330400)\")"
   ]
  },
  {
   "cell_type": "markdown",
   "id": "9c51a080",
   "metadata": {},
   "source": [
    "## Query เพื่อดูประวัติการ Snapshot"
   ]
  },
  {
   "cell_type": "code",
   "execution_count": 5,
   "id": "8553433e",
   "metadata": {},
   "outputs": [
    {
     "data": {
      "text/html": [
       "<div>\n",
       "<style scoped>\n",
       "    .dataframe tbody tr th:only-of-type {\n",
       "        vertical-align: middle;\n",
       "    }\n",
       "\n",
       "    .dataframe tbody tr th {\n",
       "        vertical-align: top;\n",
       "    }\n",
       "\n",
       "    .dataframe thead th {\n",
       "        text-align: right;\n",
       "    }\n",
       "</style>\n",
       "<table border=\"1\" class=\"dataframe\">\n",
       "  <thead>\n",
       "    <tr style=\"text-align: right;\">\n",
       "      <th></th>\n",
       "      <th>committed_at</th>\n",
       "      <th>snapshot_id</th>\n",
       "      <th>parent_id</th>\n",
       "      <th>operation</th>\n",
       "      <th>manifest_list</th>\n",
       "      <th>summary</th>\n",
       "    </tr>\n",
       "  </thead>\n",
       "  <tbody>\n",
       "    <tr>\n",
       "      <th>0</th>\n",
       "      <td>2023-03-19 05:50:15.954000+00:00</td>\n",
       "      <td>822704853044330400</td>\n",
       "      <td>1.554897e+18</td>\n",
       "      <td>append</td>\n",
       "      <td>hdfs://nn01.bigdata:8020/user/hive/warehouse/i...</td>\n",
       "      <td>{'changed-partition-count': '1', 'added-data-f...</td>\n",
       "    </tr>\n",
       "    <tr>\n",
       "      <th>1</th>\n",
       "      <td>2023-03-18 07:49:13.730000+00:00</td>\n",
       "      <td>1554896567181628286</td>\n",
       "      <td>7.808855e+18</td>\n",
       "      <td>append</td>\n",
       "      <td>hdfs://nn01.bigdata:8020/user/hive/warehouse/i...</td>\n",
       "      <td>{'changed-partition-count': '1', 'added-data-f...</td>\n",
       "    </tr>\n",
       "    <tr>\n",
       "      <th>2</th>\n",
       "      <td>2023-03-18 07:49:02.816000+00:00</td>\n",
       "      <td>7808855038413598624</td>\n",
       "      <td>8.700949e+18</td>\n",
       "      <td>append</td>\n",
       "      <td>hdfs://nn01.bigdata:8020/user/hive/warehouse/i...</td>\n",
       "      <td>{'changed-partition-count': '1', 'added-data-f...</td>\n",
       "    </tr>\n",
       "    <tr>\n",
       "      <th>3</th>\n",
       "      <td>2023-03-18 07:47:36.388000+00:00</td>\n",
       "      <td>8700948751126317934</td>\n",
       "      <td>NaN</td>\n",
       "      <td>append</td>\n",
       "      <td>hdfs://nn01.bigdata:8020/user/hive/warehouse/i...</td>\n",
       "      <td>{'changed-partition-count': '0', 'total-equali...</td>\n",
       "    </tr>\n",
       "  </tbody>\n",
       "</table>\n",
       "</div>"
      ],
      "text/plain": [
       "                      committed_at          snapshot_id     parent_id  \\\n",
       "0 2023-03-19 05:50:15.954000+00:00   822704853044330400  1.554897e+18   \n",
       "1 2023-03-18 07:49:13.730000+00:00  1554896567181628286  7.808855e+18   \n",
       "2 2023-03-18 07:49:02.816000+00:00  7808855038413598624  8.700949e+18   \n",
       "3 2023-03-18 07:47:36.388000+00:00  8700948751126317934           NaN   \n",
       "\n",
       "  operation                                      manifest_list  \\\n",
       "0    append  hdfs://nn01.bigdata:8020/user/hive/warehouse/i...   \n",
       "1    append  hdfs://nn01.bigdata:8020/user/hive/warehouse/i...   \n",
       "2    append  hdfs://nn01.bigdata:8020/user/hive/warehouse/i...   \n",
       "3    append  hdfs://nn01.bigdata:8020/user/hive/warehouse/i...   \n",
       "\n",
       "                                             summary  \n",
       "0  {'changed-partition-count': '1', 'added-data-f...  \n",
       "1  {'changed-partition-count': '1', 'added-data-f...  \n",
       "2  {'changed-partition-count': '1', 'added-data-f...  \n",
       "3  {'changed-partition-count': '0', 'total-equali...  "
      ]
     },
     "execution_count": 5,
     "metadata": {},
     "output_type": "execute_result"
    }
   ],
   "source": [
    "sql = '''\n",
    "    SELECT\n",
    "        *\n",
    "    FROM\n",
    "        iceberg.iceberg_test.\"tbl_example$snapshots\"\n",
    "    ORDER BY\n",
    "        committed_at DESC\n",
    "'''\n",
    "pd.read_sql_query(sql, con=engine)"
   ]
  },
  {
   "cell_type": "markdown",
   "id": "5acf3c85",
   "metadata": {},
   "source": [
    "## แสดงรายการ Record หรือ Rows ทั้งหมดในตารางพร้อมระบุเวลาที่เกิด Condition พร้อมบอกว่า ข้อมูล Row นี้อยู่ในไฟล์ parquet ตัวไหน"
   ]
  },
  {
   "cell_type": "code",
   "execution_count": 12,
   "id": "1b625f3b",
   "metadata": {},
   "outputs": [
    {
     "data": {
      "text/html": [
       "<div>\n",
       "<style scoped>\n",
       "    .dataframe tbody tr th:only-of-type {\n",
       "        vertical-align: middle;\n",
       "    }\n",
       "\n",
       "    .dataframe tbody tr th {\n",
       "        vertical-align: top;\n",
       "    }\n",
       "\n",
       "    .dataframe thead th {\n",
       "        text-align: right;\n",
       "    }\n",
       "</style>\n",
       "<table border=\"1\" class=\"dataframe\">\n",
       "  <thead>\n",
       "    <tr style=\"text-align: right;\">\n",
       "      <th></th>\n",
       "      <th>_c0</th>\n",
       "      <th>age_group</th>\n",
       "      <th>vaccine_status</th>\n",
       "      <th>outcome</th>\n",
       "      <th>$path</th>\n",
       "      <th>$file_modified_time</th>\n",
       "    </tr>\n",
       "  </thead>\n",
       "  <tbody>\n",
       "    <tr>\n",
       "      <th>0</th>\n",
       "      <td>5</td>\n",
       "      <td>test5</td>\n",
       "      <td>test5</td>\n",
       "      <td>test5</td>\n",
       "      <td>hdfs://nn01.bigdata:8020/user/hive/warehouse/i...</td>\n",
       "      <td>2023-03-19 05:32:17.554000+00:00</td>\n",
       "    </tr>\n",
       "    <tr>\n",
       "      <th>1</th>\n",
       "      <td>2</td>\n",
       "      <td>test2</td>\n",
       "      <td>test2</td>\n",
       "      <td>test2</td>\n",
       "      <td>hdfs://nn01.bigdata:8020/user/hive/warehouse/i...</td>\n",
       "      <td>2023-03-18 07:31:14.581000+00:00</td>\n",
       "    </tr>\n",
       "    <tr>\n",
       "      <th>2</th>\n",
       "      <td>1</td>\n",
       "      <td>test</td>\n",
       "      <td>test</td>\n",
       "      <td>test</td>\n",
       "      <td>hdfs://nn01.bigdata:8020/user/hive/warehouse/i...</td>\n",
       "      <td>2023-03-18 07:31:03.638000+00:00</td>\n",
       "    </tr>\n",
       "  </tbody>\n",
       "</table>\n",
       "</div>"
      ],
      "text/plain": [
       "   _c0 age_group vaccine_status outcome  \\\n",
       "0    5     test5          test5   test5   \n",
       "1    2     test2          test2   test2   \n",
       "2    1      test           test    test   \n",
       "\n",
       "                                               $path  \\\n",
       "0  hdfs://nn01.bigdata:8020/user/hive/warehouse/i...   \n",
       "1  hdfs://nn01.bigdata:8020/user/hive/warehouse/i...   \n",
       "2  hdfs://nn01.bigdata:8020/user/hive/warehouse/i...   \n",
       "\n",
       "               $file_modified_time  \n",
       "0 2023-03-19 05:32:17.554000+00:00  \n",
       "1 2023-03-18 07:31:14.581000+00:00  \n",
       "2 2023-03-18 07:31:03.638000+00:00  "
      ]
     },
     "execution_count": 12,
     "metadata": {},
     "output_type": "execute_result"
    }
   ],
   "source": [
    "sql = '''\n",
    "    SELECT\n",
    "        *, \n",
    "        \"$path\", \"$file_modified_time\"\n",
    "    FROM\n",
    "        iceberg.iceberg_test.tbl_example\n",
    "'''\n",
    "pd.read_sql_query(sql, con=engine)"
   ]
  },
  {
   "cell_type": "markdown",
   "id": "339f16c3",
   "metadata": {},
   "source": [
    "## Query แบบระบุไฟล์ Parquet"
   ]
  },
  {
   "cell_type": "code",
   "execution_count": 11,
   "id": "18627b63",
   "metadata": {},
   "outputs": [
    {
     "data": {
      "text/html": [
       "<div>\n",
       "<style scoped>\n",
       "    .dataframe tbody tr th:only-of-type {\n",
       "        vertical-align: middle;\n",
       "    }\n",
       "\n",
       "    .dataframe tbody tr th {\n",
       "        vertical-align: top;\n",
       "    }\n",
       "\n",
       "    .dataframe thead th {\n",
       "        text-align: right;\n",
       "    }\n",
       "</style>\n",
       "<table border=\"1\" class=\"dataframe\">\n",
       "  <thead>\n",
       "    <tr style=\"text-align: right;\">\n",
       "      <th></th>\n",
       "      <th>_c0</th>\n",
       "      <th>age_group</th>\n",
       "      <th>vaccine_status</th>\n",
       "      <th>outcome</th>\n",
       "    </tr>\n",
       "  </thead>\n",
       "  <tbody>\n",
       "    <tr>\n",
       "      <th>0</th>\n",
       "      <td>1</td>\n",
       "      <td>test</td>\n",
       "      <td>test</td>\n",
       "      <td>test</td>\n",
       "    </tr>\n",
       "  </tbody>\n",
       "</table>\n",
       "</div>"
      ],
      "text/plain": [
       "   _c0 age_group vaccine_status outcome\n",
       "0    1      test           test    test"
      ]
     },
     "execution_count": 11,
     "metadata": {},
     "output_type": "execute_result"
    }
   ],
   "source": [
    "sql = '''\n",
    "    SELECT\n",
    "        *\n",
    "    FROM\n",
    "        iceberg.iceberg_test.tbl_example\n",
    "    WHERE\n",
    "        \"$path\" = 'hdfs://nn01.bigdata:8020/user/hive/warehouse/iceberg_test/tbl_example/data/20230318_073101_00095_hdwqq-ae0b490d-8fd9-46ab-aed5-526bf34f0ea9.parquet'\n",
    "'''\n",
    "pd.read_sql_query(sql, con=engine)"
   ]
  },
  {
   "cell_type": "code",
   "execution_count": null,
   "id": "6cf9ae24",
   "metadata": {},
   "outputs": [],
   "source": []
  }
 ],
 "metadata": {
  "kernelspec": {
   "display_name": "Python 3 (ipykernel)",
   "language": "python",
   "name": "python3"
  },
  "language_info": {
   "codemirror_mode": {
    "name": "ipython",
    "version": 3
   },
   "file_extension": ".py",
   "mimetype": "text/x-python",
   "name": "python",
   "nbconvert_exporter": "python",
   "pygments_lexer": "ipython3",
   "version": "3.9.16"
  }
 },
 "nbformat": 4,
 "nbformat_minor": 5
}
