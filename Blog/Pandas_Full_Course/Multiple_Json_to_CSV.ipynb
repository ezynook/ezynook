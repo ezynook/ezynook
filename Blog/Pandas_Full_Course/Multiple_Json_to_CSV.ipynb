{
 "cells": [
  {
   "cell_type": "code",
   "execution_count": null,
   "metadata": {},
   "outputs": [],
   "source": [
    "import pandas as pd\n",
    "import glob\n",
    "import os\n",
    "from pathlib import Path\n",
    "import json\n",
    "import shutil"
   ]
  },
  {
   "cell_type": "code",
   "execution_count": null,
   "metadata": {},
   "outputs": [],
   "source": [
    "\n",
    "for curr_file in glob.glob(r\"/Users/pasit/Desktop/csv/*.json\"):\n",
    "    try:\n",
    "        pdObj = pd.read_json(curr_file)     \n",
    "        filenames = curr_file.split('/')[5]\n",
    "        filenames2 = filenames.split('.')[0] \n",
    "        csvData = pdObj.to_csv(r'/Users/pasit/Desktop/export/'+filenames2+'.csv',index=False)\n",
    "        shutil.move(curr_file, \"/Users/pasit/Desktop/tmp/\")\n",
    "    except:\n",
    "        pass\n",
    "    # print(pdObj)\n",
    "    \n"
   ]
  },
  {
   "cell_type": "code",
   "execution_count": 13,
   "metadata": {},
   "outputs": [],
   "source": [
    "\n",
    "import pandas as pd\n",
    "import json\n",
    "\n",
    "df = pd.read_json('geo_pdpa_ground_water1.json')\n",
    "df\n",
    "df.to_csv(r'/Users/pasit/Desktop/export/'+'geo_pdpa_ground_water1'+'.csv',index=False)"
   ]
  },
  {
   "cell_type": "code",
   "execution_count": null,
   "metadata": {},
   "outputs": [],
   "source": []
  }
 ],
 "metadata": {
  "kernelspec": {
   "display_name": "Python 3.9.12 ('base')",
   "language": "python",
   "name": "python3"
  },
  "language_info": {
   "codemirror_mode": {
    "name": "ipython",
    "version": 3
   },
   "file_extension": ".py",
   "mimetype": "text/x-python",
   "name": "python",
   "nbconvert_exporter": "python",
   "pygments_lexer": "ipython3",
   "version": "3.9.12"
  },
  "orig_nbformat": 4,
  "vscode": {
   "interpreter": {
    "hash": "a073d09ee1f0fc65c4fdd44cfa2f842cc367f31b284cfeac679ae38e6da887c4"
   }
  }
 },
 "nbformat": 4,
 "nbformat_minor": 2
}
